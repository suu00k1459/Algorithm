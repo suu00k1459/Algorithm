{
 "cells": [
  {
   "cell_type": "code",
   "execution_count": 15,
   "id": "e2118774-782d-4fea-854b-46fdbfab18c4",
   "metadata": {},
   "outputs": [],
   "source": [
    "def solution(lst, search_lst):\n",
    "    def search(lst, idx, num):\n",
    "        if idx< len(lst):\n",
    "            i = lst[idx]\n",
    "            if i == num:\n",
    "                return True\n",
    "            else :\n",
    "                i = search(lst,idx*2+1,num)\n",
    "                i = search(lst,idx*2+2,num)\n",
    "                return False\n",
    "        else:\n",
    "            return False\n",
    "\n",
    "    temp = []\n",
    "    for i in search_lst:\n",
    "        tp = search(lst, 0, i)\n",
    "        temp.append(tp)\n",
    "    return temp"
   ]
  },
  {
   "cell_type": "code",
   "execution_count": 16,
   "id": "8a3e3206-3f1f-4ec0-afe9-cc541b6a1bd9",
   "metadata": {},
   "outputs": [
    {
     "data": {
      "text/plain": [
       "[False, False, True, False]"
      ]
     },
     "execution_count": 16,
     "metadata": {},
     "output_type": "execute_result"
    }
   ],
   "source": [
    "lst = [5,3,8,4,2,1,7,10]\n",
    "search_lst = [1,2,5,6]\n",
    "\n",
    "solution(lst, search_lst)"
   ]
  },
  {
   "cell_type": "code",
   "execution_count": null,
   "id": "7a7e8068-48e1-4b6c-8efa-ca1d518ac604",
   "metadata": {},
   "outputs": [],
   "source": []
  }
 ],
 "metadata": {
  "kernelspec": {
   "display_name": "Python 3 (ipykernel)",
   "language": "python",
   "name": "python3"
  },
  "language_info": {
   "codemirror_mode": {
    "name": "ipython",
    "version": 3
   },
   "file_extension": ".py",
   "mimetype": "text/x-python",
   "name": "python",
   "nbconvert_exporter": "python",
   "pygments_lexer": "ipython3",
   "version": "3.11.7"
  }
 },
 "nbformat": 4,
 "nbformat_minor": 5
}
