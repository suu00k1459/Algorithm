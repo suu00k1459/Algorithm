{
 "cells": [
  {
   "cell_type": "code",
   "execution_count": 78,
   "id": "9cf34359-70b8-48ce-9d36-65e58cdf5d0a",
   "metadata": {},
   "outputs": [],
   "source": [
    "def solution(progresses, sppeds):\n",
    "    lst = []\n",
    "    answer = []\n",
    "    \n",
    "    for i in range(len(progresses)):\n",
    "        k=0\n",
    "        while progresses[i]<100:\n",
    "            progresses[i]+=sppeds[i]\n",
    "            k+=1\n",
    "        lst.append(k)\n",
    "\n",
    "    k = 0\n",
    "    for i in lst:\n",
    "        if len(answer)==0:\n",
    "            answer.append(1)\n",
    "            k = i\n",
    "        else :\n",
    "            if i <=k :\n",
    "                answer[-1]+=1\n",
    "            else:\n",
    "                answer.append(1)\n",
    "                k = i\n",
    "    return answer"
   ]
  },
  {
   "cell_type": "code",
   "execution_count": 79,
   "id": "2fac6baf-d56e-44ec-9798-383457de8544",
   "metadata": {},
   "outputs": [],
   "source": [
    "progresses =[98,99,99,98]\n",
    "sppeds =   [1,1,1,1]"
   ]
  },
  {
   "cell_type": "code",
   "execution_count": 80,
   "id": "7eb69032-e426-498b-a449-68dab6aca20a",
   "metadata": {},
   "outputs": [
    {
     "data": {
      "text/plain": [
       "[4]"
      ]
     },
     "execution_count": 80,
     "metadata": {},
     "output_type": "execute_result"
    }
   ],
   "source": [
    "solution(progresses,sppeds)"
   ]
  },
  {
   "cell_type": "code",
   "execution_count": null,
   "id": "f6ad1062-f2f7-45b0-a3a9-4961adcda4cd",
   "metadata": {},
   "outputs": [],
   "source": []
  }
 ],
 "metadata": {
  "kernelspec": {
   "display_name": "Python 3 (ipykernel)",
   "language": "python",
   "name": "python3"
  },
  "language_info": {
   "codemirror_mode": {
    "name": "ipython",
    "version": 3
   },
   "file_extension": ".py",
   "mimetype": "text/x-python",
   "name": "python",
   "nbconvert_exporter": "python",
   "pygments_lexer": "ipython3",
   "version": "3.11.7"
  }
 },
 "nbformat": 4,
 "nbformat_minor": 5
}
