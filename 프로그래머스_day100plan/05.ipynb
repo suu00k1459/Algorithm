{
 "cells": [
  {
   "cell_type": "code",
   "execution_count": 1,
   "id": "50d6426a-f118-4bfa-ae85-57b5aee3b2b8",
   "metadata": {},
   "outputs": [],
   "source": [
    "def solution(arr1, arr2):\n",
    "\n",
    "    lst3 = []\n",
    "    for i in range(len(arr1)):\n",
    "        lst2=[]\n",
    "        for n in range(len(arr2[0])):\n",
    "            lst1=[]\n",
    "            for j in range(len(arr2)):\n",
    "                lst1.append(arr1[i][j] * arr2[j][n])\n",
    "            lst2.append(sum(lst1))\n",
    "        lst3.append(lst2)\n",
    "            \n",
    "\n",
    "    return lst3"
   ]
  },
  {
   "cell_type": "code",
   "execution_count": null,
   "id": "8bb026c4-9137-4099-96c7-c4d95771ffb6",
   "metadata": {},
   "outputs": [],
   "source": []
  }
 ],
 "metadata": {
  "kernelspec": {
   "display_name": "Python 3 (ipykernel)",
   "language": "python",
   "name": "python3"
  },
  "language_info": {
   "codemirror_mode": {
    "name": "ipython",
    "version": 3
   },
   "file_extension": ".py",
   "mimetype": "text/x-python",
   "name": "python",
   "nbconvert_exporter": "python",
   "pygments_lexer": "ipython3",
   "version": "3.11.7"
  }
 },
 "nbformat": 4,
 "nbformat_minor": 5
}
