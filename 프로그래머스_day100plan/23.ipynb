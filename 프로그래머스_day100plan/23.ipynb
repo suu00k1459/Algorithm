{
 "cells": [
  {
   "cell_type": "code",
   "execution_count": 179,
   "id": "82929e13-2762-4725-9367-55c08936ea84",
   "metadata": {},
   "outputs": [],
   "source": [
    "def solution(genres, plays):\n",
    "    dict = {}\n",
    "    for i in range(len(genres)):\n",
    "        dict[genres[i]] = dict.get(genres[i],0)+ plays[i]\n",
    "\n",
    "    dict = sorted(dict.items(), key = lambda x : -x[1])\n",
    "\n",
    "    temp = []\n",
    "    for i in dict:\n",
    "        lst = []\n",
    "        for j in range(len(genres)):\n",
    "            if i[0] == genres[j]:\n",
    "                lst.append([j, plays[j]])\n",
    "        \n",
    "        lst = sorted(lst, key = lambda x: -x[1])\n",
    "\n",
    "        if len(lst)>2:\n",
    "            k = 2\n",
    "        else :\n",
    "            k = len(lst)\n",
    "            \n",
    "        for i in range(k):\n",
    "            temp.append(lst[i][0])\n",
    "        \n",
    "    return temp \n",
    "\n"
   ]
  },
  {
   "cell_type": "code",
   "execution_count": 180,
   "id": "c97d878a-0d99-4367-be28-3ea179edcf04",
   "metadata": {},
   "outputs": [],
   "source": [
    "genres =  \t[\"classic\", \"pop\", \"classic\", \"classic\", \"pop\"]\n",
    "play = [500, 600, 150, 800, 2500]\n"
   ]
  },
  {
   "cell_type": "code",
   "execution_count": 181,
   "id": "ec169091-1499-4799-9745-1675ae6d5293",
   "metadata": {},
   "outputs": [
    {
     "data": {
      "text/plain": [
       "[4, 1, 3, 0]"
      ]
     },
     "execution_count": 181,
     "metadata": {},
     "output_type": "execute_result"
    }
   ],
   "source": [
    "solution(genres, play)"
   ]
  },
  {
   "cell_type": "code",
   "execution_count": null,
   "id": "46337bce-99fa-485a-8555-3ac6435e3eaf",
   "metadata": {},
   "outputs": [],
   "source": []
  }
 ],
 "metadata": {
  "kernelspec": {
   "display_name": "Python 3 (ipykernel)",
   "language": "python",
   "name": "python3"
  },
  "language_info": {
   "codemirror_mode": {
    "name": "ipython",
    "version": 3
   },
   "file_extension": ".py",
   "mimetype": "text/x-python",
   "name": "python",
   "nbconvert_exporter": "python",
   "pygments_lexer": "ipython3",
   "version": "3.11.7"
  }
 },
 "nbformat": 4,
 "nbformat_minor": 5
}
