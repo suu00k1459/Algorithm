{
 "cells": [
  {
   "cell_type": "code",
   "execution_count": 34,
   "id": "b4547981-0ebd-4520-b993-c77032416954",
   "metadata": {},
   "outputs": [],
   "source": [
    "def solution(s):\n",
    "    lst =[]\n",
    "    for i in s:\n",
    "        if i ==\")\" and lst[-1]==\"(\":\n",
    "            lst.pop()\n",
    "        else :\n",
    "            lst.append(i)\n",
    "        \n",
    "    if len(lst)==0:\n",
    "        return True\n",
    "    else:\n",
    "        return False"
   ]
  },
  {
   "cell_type": "code",
   "execution_count": 35,
   "id": "0780ce5c-fbc7-4ffc-b2bb-1269f9e669ce",
   "metadata": {},
   "outputs": [
    {
     "data": {
      "text/plain": [
       "True"
      ]
     },
     "execution_count": 35,
     "metadata": {},
     "output_type": "execute_result"
    }
   ],
   "source": [
    "solution(\"(())()\")"
   ]
  },
  {
   "cell_type": "code",
   "execution_count": null,
   "id": "bf19d827-50ea-460f-8256-356158138ac5",
   "metadata": {},
   "outputs": [],
   "source": []
  }
 ],
 "metadata": {
  "kernelspec": {
   "display_name": "Python 3 (ipykernel)",
   "language": "python",
   "name": "python3"
  },
  "language_info": {
   "codemirror_mode": {
    "name": "ipython",
    "version": 3
   },
   "file_extension": ".py",
   "mimetype": "text/x-python",
   "name": "python",
   "nbconvert_exporter": "python",
   "pygments_lexer": "ipython3",
   "version": "3.11.7"
  }
 },
 "nbformat": 4,
 "nbformat_minor": 5
}
