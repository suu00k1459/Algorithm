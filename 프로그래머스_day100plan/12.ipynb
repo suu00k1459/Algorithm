{
 "cells": [
  {
   "cell_type": "code",
   "execution_count": 21,
   "id": "004f0d2f-11c7-484d-aa42-2eee79367a41",
   "metadata": {},
   "outputs": [],
   "source": [
    "def solution(prices):\n",
    "    lst=[]\n",
    "    for i in range(len(prices)):\n",
    "        s = 0\n",
    "        for j in range(i+1,len(prices)):\n",
    "            if prices[i]<=prices[j]:\n",
    "                 s+=1\n",
    "            else:\n",
    "                s+=1\n",
    "                break\n",
    "        lst.append(s)\n",
    "    return lst"
   ]
  },
  {
   "cell_type": "code",
   "execution_count": 23,
   "id": "eb35f8ec-9be1-480b-8733-c6da936bad62",
   "metadata": {},
   "outputs": [
    {
     "data": {
      "text/plain": [
       "[4, 3, 1, 1, 0]"
      ]
     },
     "execution_count": 23,
     "metadata": {},
     "output_type": "execute_result"
    }
   ],
   "source": [
    "solution([1,2,3,2,3])"
   ]
  },
  {
   "cell_type": "code",
   "execution_count": null,
   "id": "ed931322-899f-45cd-be82-40365f8d67e0",
   "metadata": {},
   "outputs": [],
   "source": []
  }
 ],
 "metadata": {
  "kernelspec": {
   "display_name": "Python 3 (ipykernel)",
   "language": "python",
   "name": "python3"
  },
  "language_info": {
   "codemirror_mode": {
    "name": "ipython",
    "version": 3
   },
   "file_extension": ".py",
   "mimetype": "text/x-python",
   "name": "python",
   "nbconvert_exporter": "python",
   "pygments_lexer": "ipython3",
   "version": "3.11.7"
  }
 },
 "nbformat": 4,
 "nbformat_minor": 5
}
