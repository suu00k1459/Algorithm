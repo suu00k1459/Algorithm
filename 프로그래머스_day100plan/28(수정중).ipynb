{
 "cells": [
  {
   "cell_type": "code",
   "execution_count": 19,
   "id": "40fd389a-66a1-4912-8b91-b4f01f0e125e",
   "metadata": {},
   "outputs": [],
   "source": [
    "def solution(N, A, B):\n",
    "    def re(num):\n",
    "        n = 2\n",
    "        i = 1\n",
    "        while n <= num:\n",
    "            n=n*n\n",
    "            i+=1\n",
    "            \n",
    "        return i\n",
    "\n",
    "    def div(num\n",
    "    if (A< N//2 & B < N//2) | (A > N//2 & B > N//2):\n",
    "        print(N//2)\n",
    "        print(\"ddd\")\n",
    "        num = N//2\n",
    "    else :\n",
    "        print(N//2)\n",
    "        print(\"www\")\n",
    "        num = N\n",
    "        \n",
    "    temp = re(num)\n",
    "        \n",
    "    return temp"
   ]
  },
  {
   "cell_type": "code",
   "execution_count": 20,
   "id": "e1dd4b24-b63b-4ae2-a2f7-f6cb225968de",
   "metadata": {},
   "outputs": [
    {
     "name": "stdout",
     "output_type": "stream",
     "text": [
      "524288\n",
      "www\n"
     ]
    },
    {
     "data": {
      "text/plain": [
       "6"
      ]
     },
     "execution_count": 20,
     "metadata": {},
     "output_type": "execute_result"
    }
   ],
   "source": [
    "solution(1048576, 12345, 12346)"
   ]
  },
  {
   "cell_type": "code",
   "execution_count": 78,
   "id": "8797ff7b-0abd-41c8-93df-e09e74b5a1c3",
   "metadata": {},
   "outputs": [],
   "source": [
    "def solution(N, A, B):\n",
    "    def div(N,k, A, B, i):\n",
    "        if ((A< N//2) & (B < N//2)) |((A > N//2) & (B > N//2)):\n",
    "            if A > N//2:\n",
    "                N = N//2+(N//2)//2\n",
    "                k = N//2\n",
    "            else :\n",
    "                N = N//2\n",
    "                k = N//2\n",
    "        \n",
    "            i+=1\n",
    "            if k==2:\n",
    "                return 1\n",
    "            else:\n",
    "                div(N, k, A, B, i)\n",
    "        else :\n",
    "            return i\n",
    "\n",
    "    return div(N,N, A, B,1)\n",
    "                "
   ]
  },
  {
   "cell_type": "code",
   "execution_count": 79,
   "id": "e49174d6-d2f4-4984-a009-65355ba9fc22",
   "metadata": {},
   "outputs": [],
   "source": [
    "solution(8,6,7)"
   ]
  },
  {
   "cell_type": "code",
   "execution_count": 68,
   "id": "8936e0dc-b970-448d-bced-7ca65f7aeb59",
   "metadata": {},
   "outputs": [],
   "source": [
    "def temp (N, A, B):\n",
    "    print(N//2)\n",
    "    if ((A< N//2) & (B < N//2)) |((A > N//2) & (B > N//2)):\n",
    "        print(\"와우\")"
   ]
  },
  {
   "cell_type": "code",
   "execution_count": 69,
   "id": "4a8eea86-71e1-41bf-b86e-f41bc0be0a32",
   "metadata": {},
   "outputs": [
    {
     "name": "stdout",
     "output_type": "stream",
     "text": [
      "4\n",
      "와우\n"
     ]
    }
   ],
   "source": [
    "temp(8,6,7)"
   ]
  },
  {
   "cell_type": "markdown",
   "id": "68ddeb12-1f9e-4d5f-b5e3-7390f5e35c56",
   "metadata": {},
   "source": []
  }
 ],
 "metadata": {
  "kernelspec": {
   "display_name": "Python 3 (ipykernel)",
   "language": "python",
   "name": "python3"
  },
  "language_info": {
   "codemirror_mode": {
    "name": "ipython",
    "version": 3
   },
   "file_extension": ".py",
   "mimetype": "text/x-python",
   "name": "python",
   "nbconvert_exporter": "python",
   "pygments_lexer": "ipython3",
   "version": "3.11.7"
  }
 },
 "nbformat": 4,
 "nbformat_minor": 5
}
