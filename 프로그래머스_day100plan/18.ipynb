{
 "cells": [
  {
   "cell_type": "code",
   "execution_count": 28,
   "id": "808316e7-13d6-4938-b3ab-e0d75a8667d7",
   "metadata": {},
   "outputs": [],
   "source": [
    "arr = [1,2,3,4,8]\n",
    "target=6"
   ]
  },
  {
   "cell_type": "code",
   "execution_count": 29,
   "id": "17c2a60c-2161-434c-8c31-b113d0566890",
   "metadata": {},
   "outputs": [],
   "source": [
    "def solution(arr, target):\n",
    "    for i in range(len(arr)):\n",
    "        b = 6 - arr[i]\n",
    "        if b in arr[i+1:]:\n",
    "            return True\n",
    "    \n",
    "    return False"
   ]
  },
  {
   "cell_type": "code",
   "execution_count": 30,
   "id": "f56eb734-46d6-45f7-bfbc-a2bea8ba5dae",
   "metadata": {},
   "outputs": [
    {
     "name": "stdout",
     "output_type": "stream",
     "text": [
      "0 1 5\n",
      "1 2 4\n"
     ]
    },
    {
     "data": {
      "text/plain": [
       "True"
      ]
     },
     "execution_count": 30,
     "metadata": {},
     "output_type": "execute_result"
    }
   ],
   "source": [
    "solution(arr, target)"
   ]
  },
  {
   "cell_type": "code",
   "execution_count": null,
   "id": "de6a46db-3c0d-48b4-97bc-b8c13fa39999",
   "metadata": {},
   "outputs": [],
   "source": []
  }
 ],
 "metadata": {
  "kernelspec": {
   "display_name": "Python 3 (ipykernel)",
   "language": "python",
   "name": "python3"
  },
  "language_info": {
   "codemirror_mode": {
    "name": "ipython",
    "version": 3
   },
   "file_extension": ".py",
   "mimetype": "text/x-python",
   "name": "python",
   "nbconvert_exporter": "python",
   "pygments_lexer": "ipython3",
   "version": "3.11.7"
  }
 },
 "nbformat": 4,
 "nbformat_minor": 5
}
