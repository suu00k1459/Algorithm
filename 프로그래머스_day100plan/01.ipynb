{
 "cells": [
  {
   "cell_type": "markdown",
   "id": "8d6921d1-399c-4575-953b-5afdc30d24e3",
   "metadata": {},
   "source": [
    "## 정수배열 반환하기"
   ]
  },
  {
   "cell_type": "code",
   "execution_count": 1,
   "id": "470e91ea-92c6-413e-87e1-98ac2931ce94",
   "metadata": {},
   "outputs": [],
   "source": []
  },
  {
   "cell_type": "code",
   "execution_count": 8,
   "id": "17f4221f-cad2-49b6-8672-20519d1ab31b",
   "metadata": {},
   "outputs": [
    {
     "name": "stdout",
     "output_type": "stream",
     "text": [
      "[-5, 1, 2, 3, 4]\n",
      "[1, 1, 2, 2, 3, 4, 5]\n",
      "[1, 6, 7]\n",
      "test case 1번 결과 이상한듯!!\n"
     ]
    }
   ],
   "source": [
    "def solution(test_case):\n",
    "    return print(sorted(test_case))\n",
    "\n",
    "test_case1= [1,-5,2,4,3]\n",
    "test_case2= [2,1,1,3,2,5,4]\n",
    "test_case3= [6,1,7]\n",
    "\n",
    "solution(test_case1)\n",
    "solution(test_case2)\n",
    "solution(test_case3)\n",
    "print(\"test case 1번 결과 이상한듯!!\")"
   ]
  },
  {
   "cell_type": "code",
   "execution_count": 6,
   "id": "caea30be-8aed-4404-90cb-60c17d3a82f2",
   "metadata": {},
   "outputs": [
    {
     "data": {
      "text/plain": [
       "[1, 6, 7]"
      ]
     },
     "execution_count": 6,
     "metadata": {},
     "output_type": "execute_result"
    }
   ],
   "source": []
  }
 ],
 "metadata": {
  "kernelspec": {
   "display_name": "Python 3 (ipykernel)",
   "language": "python",
   "name": "python3"
  },
  "language_info": {
   "codemirror_mode": {
    "name": "ipython",
    "version": 3
   },
   "file_extension": ".py",
   "mimetype": "text/x-python",
   "name": "python",
   "nbconvert_exporter": "python",
   "pygments_lexer": "ipython3",
   "version": "3.11.7"
  }
 },
 "nbformat": 4,
 "nbformat_minor": 5
}
