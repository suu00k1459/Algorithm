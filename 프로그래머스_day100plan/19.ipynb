{
 "cells": [
  {
   "cell_type": "code",
   "execution_count": 3,
   "id": "ce6d09a3-53e3-4c55-b8eb-db2984310961",
   "metadata": {},
   "outputs": [],
   "source": [
    "def solution(string_list, query_list):\n",
    "    lst=[]\n",
    "    for i in range(len(query_list)):\n",
    "        if query_list[i] in string_list:\n",
    "            lst.append(True)\n",
    "        else :\n",
    "            lst.append(False)\n",
    "    return lst"
   ]
  },
  {
   "cell_type": "code",
   "execution_count": 4,
   "id": "4648a5b2-5a8a-4e98-95b0-ca8efcf2ba6e",
   "metadata": {},
   "outputs": [
    {
     "data": {
      "text/plain": [
       "[True, False, False, False]"
      ]
     },
     "execution_count": 4,
     "metadata": {},
     "output_type": "execute_result"
    }
   ],
   "source": [
    "string_list = [\"banana\", \" apple\",\"cherry\"]\n",
    "query_list = [\"banana\", \"kiwi\" ,\"melon\", \"apple\"]\n",
    "solution(string_list, query_list)"
   ]
  }
 ],
 "metadata": {
  "kernelspec": {
   "display_name": "Python 3 (ipykernel)",
   "language": "python",
   "name": "python3"
  },
  "language_info": {
   "codemirror_mode": {
    "name": "ipython",
    "version": 3
   },
   "file_extension": ".py",
   "mimetype": "text/x-python",
   "name": "python",
   "nbconvert_exporter": "python",
   "pygments_lexer": "ipython3",
   "version": "3.11.7"
  }
 },
 "nbformat": 4,
 "nbformat_minor": 5
}
