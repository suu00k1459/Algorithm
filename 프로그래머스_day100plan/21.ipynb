{
 "cells": [
  {
   "cell_type": "code",
   "execution_count": 86,
   "id": "e8d13693-d152-44a1-95cc-ff9b9443cc65",
   "metadata": {},
   "outputs": [],
   "source": [
    "def solution(want, number, discount) :\n",
    "    t=0\n",
    "    for i in range(len(discount)-9):\n",
    "        temp = discount[i:i+10]\n",
    "        dict = {}\n",
    "        for j in temp :\n",
    "            dict[j] = dict.get(j,0)+1\n",
    "\n",
    "        s = True\n",
    "        for i in range(len(want)):\n",
    "            if  want[i] in dict:\n",
    "                if number[i] <= dict[want[i]]:\n",
    "                    s = True\n",
    "                else:\n",
    "                    s = False\n",
    "                    break\n",
    "            else:\n",
    "                s = False\n",
    "                break\n",
    "        if s == True:\n",
    "            t+=1\n",
    "            \n",
    "    return t"
   ]
  },
  {
   "cell_type": "code",
   "execution_count": 87,
   "id": "3fcbc2ff-2f78-4d4b-b397-d8ce45f83482",
   "metadata": {},
   "outputs": [
    {
     "data": {
      "text/plain": [
       "3"
      ]
     },
     "execution_count": 87,
     "metadata": {},
     "output_type": "execute_result"
    }
   ],
   "source": [
    "want = [\"banana\", \"apple\", \"rice\", \"pork\", \"pot\"]\n",
    "num = [3, 2, 2, 2, 1]\n",
    "discount = [\"chicken\", \"apple\", \"apple\", \"banana\", \"rice\", \"apple\", \"pork\", \"banana\", \"pork\", \"rice\", \"pot\", \"banana\", \"apple\", \"banana\"]\n",
    "\n",
    "solution(want, num, discount)"
   ]
  },
  {
   "cell_type": "code",
   "execution_count": null,
   "id": "3ffb4887-9622-44bb-a7da-b4dcc7ddfd7a",
   "metadata": {},
   "outputs": [],
   "source": []
  }
 ],
 "metadata": {
  "kernelspec": {
   "display_name": "Python 3 (ipykernel)",
   "language": "python",
   "name": "python3"
  },
  "language_info": {
   "codemirror_mode": {
    "name": "ipython",
    "version": 3
   },
   "file_extension": ".py",
   "mimetype": "text/x-python",
   "name": "python",
   "nbconvert_exporter": "python",
   "pygments_lexer": "ipython3",
   "version": "3.11.7"
  }
 },
 "nbformat": 4,
 "nbformat_minor": 5
}
