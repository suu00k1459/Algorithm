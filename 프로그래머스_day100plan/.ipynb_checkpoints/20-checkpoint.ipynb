{
 "cells": [
  {
   "cell_type": "code",
   "execution_count": 74,
   "id": "6c013b8d-47a5-45df-982c-4fb4851483fd",
   "metadata": {},
   "outputs": [],
   "source": [
    "def solution (participant, completion) :\n",
    "    dict = {}\n",
    "    for name in participant:\n",
    "        dict[name] = dict.get(name,0)+1\n",
    "\n",
    "    for i in completion:\n",
    "        if i in dict:\n",
    "            dict[i]-=1\n",
    "\n",
    "    idx = [k for k, v in dict.items() if v>0]\n",
    "\n",
    "    result = idx[0]\n",
    "\n",
    "    return result"
   ]
  },
  {
   "cell_type": "code",
   "execution_count": 75,
   "id": "7a575703-7f72-4822-b475-5b8809f3750d",
   "metadata": {},
   "outputs": [
    {
     "data": {
      "text/plain": [
       "'mislav'"
      ]
     },
     "execution_count": 75,
     "metadata": {},
     "output_type": "execute_result"
    }
   ],
   "source": [
    "participant = \t[\"mislav\", \"stanko\", \"mislav\", \"ana\"]\n",
    "completion = [\"stanko\", \"ana\", \"mislav\"]\n",
    "\n",
    "solution(participant, completion)"
   ]
  },
  {
   "cell_type": "code",
   "execution_count": null,
   "id": "77224aaf-68a7-4a48-9073-6286fe82a07a",
   "metadata": {},
   "outputs": [],
   "source": []
  }
 ],
 "metadata": {
  "kernelspec": {
   "display_name": "Python 3 (ipykernel)",
   "language": "python",
   "name": "python3"
  },
  "language_info": {
   "codemirror_mode": {
    "name": "ipython",
    "version": 3
   },
   "file_extension": ".py",
   "mimetype": "text/x-python",
   "name": "python",
   "nbconvert_exporter": "python",
   "pygments_lexer": "ipython3",
   "version": "3.11.7"
  }
 },
 "nbformat": 4,
 "nbformat_minor": 5
}
