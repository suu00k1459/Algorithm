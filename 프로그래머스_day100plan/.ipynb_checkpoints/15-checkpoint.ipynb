{
 "cells": [
  {
   "cell_type": "code",
   "execution_count": 83,
   "id": "e43929d7-ecb6-4ca8-bf9d-01a590bc24f8",
   "metadata": {},
   "outputs": [],
   "source": [
    "def solution(N,k):\n",
    "    lst = [i+1 for i in range(N)]\n",
    "    cnt=1\n",
    "    temp =[]\n",
    "    while len(temp)<N:\n",
    "        if cnt ==k:\n",
    "            temp.append(lst.pop(0))\n",
    "            cnt = 0\n",
    "        else:\n",
    "            lst.append(lst[0])\n",
    "            cnt+=1\n",
    "            lst.pop(0)\n",
    "    return temp[-1]"
   ]
  },
  {
   "cell_type": "code",
   "execution_count": 84,
   "id": "1aeeccf9-fd52-4bd4-bb72-4eef8e4cc263",
   "metadata": {},
   "outputs": [
    {
     "data": {
      "text/plain": [
       "3"
      ]
     },
     "execution_count": 84,
     "metadata": {},
     "output_type": "execute_result"
    }
   ],
   "source": [
    "solution(5,2)"
   ]
  },
  {
   "cell_type": "code",
   "execution_count": 85,
   "id": "875469b1-8e14-4278-b910-d0c3538a1ef8",
   "metadata": {},
   "outputs": [
    {
     "name": "stdin",
     "output_type": "stream",
     "text": [
      " 5,2\n"
     ]
    },
    {
     "ename": "ValueError",
     "evalue": "invalid literal for int() with base 10: '5,2'",
     "output_type": "error",
     "traceback": [
      "\u001b[1;31m---------------------------------------------------------------------------\u001b[0m",
      "\u001b[1;31mValueError\u001b[0m                                Traceback (most recent call last)",
      "Cell \u001b[1;32mIn[85], line 15\u001b[0m\n\u001b[0;32m     12\u001b[0m             lst\u001b[38;5;241m.\u001b[39mpop(\u001b[38;5;241m0\u001b[39m)\n\u001b[0;32m     13\u001b[0m     \u001b[38;5;28;01mreturn\u001b[39;00m temp\n\u001b[1;32m---> 15\u001b[0m N, k \u001b[38;5;241m=\u001b[39m \u001b[38;5;28mmap\u001b[39m(\u001b[38;5;28mint\u001b[39m, \u001b[38;5;28minput\u001b[39m()\u001b[38;5;241m.\u001b[39msplit())\n\u001b[0;32m     16\u001b[0m \u001b[38;5;28;01mfor\u001b[39;00m i \u001b[38;5;129;01min\u001b[39;00m solution(N,k):\n\u001b[0;32m     17\u001b[0m     \u001b[38;5;28mprint\u001b[39m(i)\n",
      "\u001b[1;31mValueError\u001b[0m: invalid literal for int() with base 10: '5,2'"
     ]
    }
   ],
   "source": [
    "def solution(N,k):\n",
    "    lst = [i+1 for i in range(N)]\n",
    "    cnt=1\n",
    "    temp =[]\n",
    "    while len(temp)<N:\n",
    "        if cnt ==k:\n",
    "            temp.append(lst.pop(0))\n",
    "            cnt = 0\n",
    "        else:\n",
    "            lst.append(lst[0])\n",
    "            cnt+=1\n",
    "            lst.pop(0)\n",
    "    return temp\n",
    "\n",
    "N, k = map(int, input().split())\n",
    "for i in solution(N,k):\n",
    "    print(i)"
   ]
  },
  {
   "cell_type": "code",
   "execution_count": null,
   "id": "76767c76-7cd1-4034-8479-eafbbe1d46e0",
   "metadata": {},
   "outputs": [],
   "source": []
  }
 ],
 "metadata": {
  "kernelspec": {
   "display_name": "Python 3 (ipykernel)",
   "language": "python",
   "name": "python3"
  },
  "language_info": {
   "codemirror_mode": {
    "name": "ipython",
    "version": 3
   },
   "file_extension": ".py",
   "mimetype": "text/x-python",
   "name": "python",
   "nbconvert_exporter": "python",
   "pygments_lexer": "ipython3",
   "version": "3.11.7"
  }
 },
 "nbformat": 4,
 "nbformat_minor": 5
}
