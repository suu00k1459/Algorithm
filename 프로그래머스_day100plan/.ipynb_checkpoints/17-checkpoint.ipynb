{
 "cells": [
  {
   "cell_type": "code",
   "execution_count": 37,
   "id": "0480b2b4-032f-41af-808e-b969880cdecb",
   "metadata": {},
   "outputs": [],
   "source": [
    "def solution(cards1, cards2, goal):\n",
    "    \n",
    "    a ,b = cards1.pop(0), cards2.pop(0)\n",
    "\n",
    "    for i in goal:\n",
    "        \n",
    "        if i == a:\n",
    "            if len(cards1)==0:\n",
    "                a = 0\n",
    "            else :\n",
    "                a = cards1.pop(0)\n",
    "        elif i == b:\n",
    "            if len(cards2) ==0:\n",
    "                b = 0\n",
    "            else :\n",
    "                 b = cards2.pop(0)\n",
    "        else :\n",
    "            return \"No\"\n",
    "    return \"Yes\""
   ]
  },
  {
   "cell_type": "code",
   "execution_count": 39,
   "id": "c7be25f5-39fb-418d-a6ce-dab2ec5b100d",
   "metadata": {},
   "outputs": [
    {
     "name": "stdout",
     "output_type": "stream",
     "text": [
      "a랑 같음\n",
      "b랑 같음\n",
      "b랑 같음\n"
     ]
    },
    {
     "data": {
      "text/plain": [
       "'No'"
      ]
     },
     "execution_count": 39,
     "metadata": {},
     "output_type": "execute_result"
    }
   ],
   "source": [
    "solution([\"i\", \"water\", \"drink\"], [\"want\", \"to\"],[\"i\", \"want\", \"to\", \"drink\", \"water\"])"
   ]
  },
  {
   "cell_type": "code",
   "execution_count": null,
   "id": "293c7e1e-7dbd-408d-acb8-76c96a59011d",
   "metadata": {},
   "outputs": [],
   "source": []
  }
 ],
 "metadata": {
  "kernelspec": {
   "display_name": "Python 3 (ipykernel)",
   "language": "python",
   "name": "python3"
  },
  "language_info": {
   "codemirror_mode": {
    "name": "ipython",
    "version": 3
   },
   "file_extension": ".py",
   "mimetype": "text/x-python",
   "name": "python",
   "nbconvert_exporter": "python",
   "pygments_lexer": "ipython3",
   "version": "3.11.7"
  }
 },
 "nbformat": 4,
 "nbformat_minor": 5
}
