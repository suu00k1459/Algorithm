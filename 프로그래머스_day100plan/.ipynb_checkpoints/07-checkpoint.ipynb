{
 "cells": [
  {
   "cell_type": "code",
   "execution_count": 120,
   "id": "77e58ab9-66e3-406e-9401-907e9cdbc37d",
   "metadata": {},
   "outputs": [],
   "source": [
    "def solution(dir):\n",
    "    def check(dr, x,y):\n",
    "        or_x, or_y = x, y\n",
    "        \n",
    "        if dr ==\"U\" :\n",
    "            if y <5:\n",
    "                y+=1\n",
    "        elif dr==\"D\":\n",
    "            if y>-5:\n",
    "                y-=1\n",
    "        elif dr ==\"L\":\n",
    "            if x >-5:\n",
    "                x-=1\n",
    "        else :\n",
    "            if x<5:\n",
    "                x+=1\n",
    "        return (or_x, or_y), (x,y)\n",
    "\n",
    "    def dct(key, dc):\n",
    "        if key not in dc :\n",
    "            dc[key]=1\n",
    "        else :\n",
    "            dc[key]+=1\n",
    "        return dc\n",
    "        \n",
    "    x, y = 0, 0\n",
    "    dc = {}\n",
    "    \n",
    "    for i in dir:\n",
    "        tp1, tp2 = check(i,x,y)\n",
    "        lst = [tp1, tp2]\n",
    "        lst.sort(key = lambda x: x[0])\n",
    "\n",
    "        dc= dct(str(lst),dc)\n",
    "        \n",
    "        x = tp2[0]\n",
    "        y = tp2[1]\n",
    "\n",
    "        # dct(str(lst)\n",
    "    return len(dc)  "
   ]
  },
  {
   "cell_type": "code",
   "execution_count": 121,
   "id": "61c37cf8-c84c-4813-a2ee-c51df8aa58b4",
   "metadata": {},
   "outputs": [
    {
     "data": {
      "text/plain": [
       "7"
      ]
     },
     "execution_count": 121,
     "metadata": {},
     "output_type": "execute_result"
    }
   ],
   "source": [
    "solution('ULURRDLLU') "
   ]
  },
  {
   "cell_type": "code",
   "execution_count": null,
   "id": "5c15e250-7148-473c-9562-950d3bf3d724",
   "metadata": {},
   "outputs": [],
   "source": []
  }
 ],
 "metadata": {
  "kernelspec": {
   "display_name": "Python 3 (ipykernel)",
   "language": "python",
   "name": "python3"
  },
  "language_info": {
   "codemirror_mode": {
    "name": "ipython",
    "version": 3
   },
   "file_extension": ".py",
   "mimetype": "text/x-python",
   "name": "python",
   "nbconvert_exporter": "python",
   "pygments_lexer": "ipython3",
   "version": "3.11.7"
  }
 },
 "nbformat": 4,
 "nbformat_minor": 5
}
