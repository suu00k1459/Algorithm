{
 "cells": [
  {
   "cell_type": "code",
   "execution_count": 126,
   "id": "5e8a40e2-5931-4cdf-9306-6b40c2f4afe4",
   "metadata": {},
   "outputs": [],
   "source": [
    "def solution(s):\n",
    "    \n",
    "    \n",
    "    dct = {\")\":\"(\",\"]\":\"[\",\"}\":\"{\"}\n",
    "    lst = list(s)\n",
    "    tot = 0\n",
    "    n=0\n",
    "    while(n<len(s)):\n",
    "        temp =[]\n",
    "        for i, v in enumerate(lst):\n",
    "            if v not in dct:\n",
    "                temp.append(v)\n",
    "            else :\n",
    "                if len(temp)==0:\n",
    "                    temp.append(v)\n",
    "                    \n",
    "                if temp[-1]== dct[v]:\n",
    "                    temp.pop()\n",
    "                else:\n",
    "                    temp.append(v)\n",
    "            \n",
    "        if len(temp) ==0:\n",
    "            tot+=1\n",
    "        lst = lst[1:]+lst[0:1]\n",
    "        n+=1\n",
    "    return tot"
   ]
  },
  {
   "cell_type": "code",
   "execution_count": 127,
   "id": "b79f6917-6ad9-419d-a1e5-7a781277f49d",
   "metadata": {},
   "outputs": [
    {
     "data": {
      "text/plain": [
       "3"
      ]
     },
     "execution_count": 127,
     "metadata": {},
     "output_type": "execute_result"
    }
   ],
   "source": [
    "s=\"[](){}\"\n",
    "solution(s)"
   ]
  }
 ],
 "metadata": {
  "kernelspec": {
   "display_name": "Python 3 (ipykernel)",
   "language": "python",
   "name": "python3"
  },
  "language_info": {
   "codemirror_mode": {
    "name": "ipython",
    "version": 3
   },
   "file_extension": ".py",
   "mimetype": "text/x-python",
   "name": "python",
   "nbconvert_exporter": "python",
   "pygments_lexer": "ipython3",
   "version": "3.11.7"
  }
 },
 "nbformat": 4,
 "nbformat_minor": 5
}
