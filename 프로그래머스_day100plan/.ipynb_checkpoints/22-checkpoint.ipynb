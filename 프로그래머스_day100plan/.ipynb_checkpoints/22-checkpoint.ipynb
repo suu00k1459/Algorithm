{
 "cells": [
  {
   "cell_type": "code",
   "execution_count": null,
   "id": "b6acfa19-435f-45f6-99de-aeb1f5173069",
   "metadata": {},
   "outputs": [],
   "source": [
    "[\"Enter uid1234 Muzi\", +++ ////\n",
    " \"Enter uid4567 Prodo\", \n",
    " \"Leave uid1234\",\n",
    " \"Enter uid1234 Prodo\", \n",
    " \"Change uid4567 Ryan\"]"
   ]
  },
  {
   "cell_type": "code",
   "execution_count": 6,
   "id": "47cbb009-5ee8-4b47-b972-2b666936d4ac",
   "metadata": {},
   "outputs": [],
   "source": [
    "dict = {}\n",
    "result = []\n",
    "for i in record:\n",
    "    lst = i.split(\" \")\n",
    "    if lst[0] == \"Enter\":\n",
    "        dict[lst[1]] = lst[2]\n",
    "        result.append(f\"{dict[lst[1]]}님이 들어왔습니다\")\n",
    "    elif lst[0] ==\"Leave\":\n",
    "        result.append(f\"{dict[lst[1]]}님이 나갔습니다.\")"
   ]
  },
  {
   "cell_type": "code",
   "execution_count": 9,
   "id": "7d4f5e22-2ad2-4e89-9d02-e82804bd4d4f",
   "metadata": {},
   "outputs": [
    {
     "name": "stdout",
     "output_type": "stream",
     "text": [
      "{'uid1234': 'Prodo', 'uid4567': 'Prodo'}\n",
      "['Muzi님이 들어왔습니다', 'Prodo님이 들어왔습니다', 'Muzi님이 나갔습니다.', 'Prodo님이 들어왔습니다']\n"
     ]
    }
   ],
   "source": [
    "record = [\"Enter uid1234 Muzi\",\n",
    " \"Enter uid4567 Prodo\", \n",
    " \"Leave uid1234\",\n",
    " \"Enter uid1234 Prodo\", \n",
    " \"Change uid4567 Ryan\"]\n",
    "\n",
    "dict = {}\n",
    "result = []\n",
    "for i in record:\n",
    "    lst = i.split(\" \")\n",
    "    if lst[0] == \"Enter\":\n",
    "        dict[lst[1]] = lst[2]\n",
    "        result.append(f\"{dict[lst[1]]}님이 들어왔습니다\")\n",
    "    elif lst[0] ==\"Leave\":\n",
    "        result.append(f\"{dict[lst[1]]}님이 나갔습니다.\")\n",
    "print(dict)\n",
    "print(result )"
   ]
  },
  {
   "cell_type": "code",
   "execution_count": null,
   "id": "77b68519-66b6-4e87-99c2-faefc46e1618",
   "metadata": {},
   "outputs": [],
   "source": []
  },
  {
   "cell_type": "code",
   "execution_count": null,
   "id": "c6079fd0-9474-4499-b3d7-098a5cf17adc",
   "metadata": {},
   "outputs": [],
   "source": []
  }
 ],
 "metadata": {
  "kernelspec": {
   "display_name": "Python 3 (ipykernel)",
   "language": "python",
   "name": "python3"
  },
  "language_info": {
   "codemirror_mode": {
    "name": "ipython",
    "version": 3
   },
   "file_extension": ".py",
   "mimetype": "text/x-python",
   "name": "python",
   "nbconvert_exporter": "python",
   "pygments_lexer": "ipython3",
   "version": "3.11.7"
  }
 },
 "nbformat": 4,
 "nbformat_minor": 5
}
