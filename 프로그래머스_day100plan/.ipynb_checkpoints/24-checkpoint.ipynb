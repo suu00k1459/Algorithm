{
 "cells": [
  {
   "cell_type": "code",
   "execution_count": 1,
   "id": "765d874e-417d-4361-b70b-f7bd64648a6d",
   "metadata": {},
   "outputs": [],
   "source": [
    "def solution(id_list, report, k):\n",
    "    id_dict={}\n",
    "    rep_dict ={}\n",
    "\n",
    "    for i in id_list:\n",
    "        id_dict[i]=0\n",
    "        rep_dict[i] =0\n",
    "\n",
    "    for j in list(set(report)):\n",
    "        n,r = j.split(\" \")\n",
    "        rep_dict[r] +=1\n",
    "        \n",
    "    ky = [ky for ky, v in rep_dict.items() if v>=k]\n",
    "\n",
    "    for j in list(set(report)):\n",
    "        n,r = j.split(\" \")\n",
    "        for i in ky:\n",
    "            if r == i:\n",
    "                id_dict[n] +=1\n",
    "\n",
    "    return list(id_dict.values())"
   ]
  },
  {
   "cell_type": "code",
   "execution_count": null,
   "id": "a30f4ba6-7a39-4cbf-8a46-5701eccf025a",
   "metadata": {},
   "outputs": [],
   "source": []
  }
 ],
 "metadata": {
  "kernelspec": {
   "display_name": "Python 3 (ipykernel)",
   "language": "python",
   "name": "python3"
  },
  "language_info": {
   "codemirror_mode": {
    "name": "ipython",
    "version": 3
   },
   "file_extension": ".py",
   "mimetype": "text/x-python",
   "name": "python",
   "nbconvert_exporter": "python",
   "pygments_lexer": "ipython3",
   "version": "3.11.7"
  }
 },
 "nbformat": 4,
 "nbformat_minor": 5
}
