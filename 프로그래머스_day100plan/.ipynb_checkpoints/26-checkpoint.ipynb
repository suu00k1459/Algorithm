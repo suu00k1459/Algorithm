{
 "cells": [
  {
   "cell_type": "code",
   "execution_count": 2,
   "id": "308b34e2-4d93-4735-b4a2-e8537111dbed",
   "metadata": {},
   "outputs": [],
   "source": [
    "def solution(nodes):\n",
    "\n",
    "    def pre(nodes, idx):\n",
    "        if idx < len(nodes):\n",
    "            pr = str(nodes[idx])+\" \"\n",
    "            pr += pre(nodes,idx*2+1)\n",
    "            pr += pre(nodes,idx*2+2)\n",
    "            return pr\n",
    "        else:\n",
    "            return \"\"\n",
    "            \n",
    "    def inor(nodes, idx):\n",
    "        if idx < len(nodes):\n",
    "            ir = inor(nodes,idx*2+1)\n",
    "            ir += str(nodes[idx])+\" \"\n",
    "            ir += inor(nodes, idx*2+2)\n",
    "            return ir\n",
    "        else :\n",
    "            return \"\"\n",
    "\n",
    "    def post(nodes , idx):\n",
    "        if idx < len(nodes):\n",
    "            ps = post(nodes, idx*2+1)\n",
    "            ps += post(nodes,idx*2+2)\n",
    "            ps += str(nodes[idx])+\" \"\n",
    "            return ps\n",
    "        else :\n",
    "            return \"\"\n",
    "            \n",
    "        \n",
    "    return [pre(nodes,0)[:-1],\n",
    "           inor(nodes,0)[:-1],\n",
    "           post(nodes,0)[:-1]]"
   ]
  },
  {
   "cell_type": "code",
   "execution_count": 3,
   "id": "94f7b3e5-f1b6-4a0a-bff3-d8e72c2fd033",
   "metadata": {},
   "outputs": [
    {
     "data": {
      "text/plain": [
       "['1 2 4 5 3 6 7', '4 2 5 1 6 3 7', '4 5 2 6 7 3 1']"
      ]
     },
     "execution_count": 3,
     "metadata": {},
     "output_type": "execute_result"
    }
   ],
   "source": [
    "nodes= [1,2,3,4,5,6,7]\n",
    "\n",
    "solution(nodes)"
   ]
  },
  {
   "cell_type": "code",
   "execution_count": null,
   "id": "f3e7a12c-765f-4d8d-8de7-f9422068bc9f",
   "metadata": {},
   "outputs": [],
   "source": []
  }
 ],
 "metadata": {
  "kernelspec": {
   "display_name": "Python 3 (ipykernel)",
   "language": "python",
   "name": "python3"
  },
  "language_info": {
   "codemirror_mode": {
    "name": "ipython",
    "version": 3
   },
   "file_extension": ".py",
   "mimetype": "text/x-python",
   "name": "python",
   "nbconvert_exporter": "python",
   "pygments_lexer": "ipython3",
   "version": "3.11.7"
  }
 },
 "nbformat": 4,
 "nbformat_minor": 5
}
