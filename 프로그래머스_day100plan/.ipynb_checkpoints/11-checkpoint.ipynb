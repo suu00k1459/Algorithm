{
 "cells": [
  {
   "cell_type": "code",
   "execution_count": null,
   "id": "84b1f616-c6ba-4755-bea8-ddf0141b970c",
   "metadata": {},
   "outputs": [],
   "source": [
    "def solution(s):\n",
    "    lst =list(s)\n",
    "    while True:\n",
    "        for i in range(0,len(lst)-1):\n",
    "            if lst[i]==lst[i+1]:\n",
    "                lst.pop(i+1)\n",
    "                lst.pop(i)\n",
    "                break\n",
    "            else :\n",
    "                pass\n",
    "\n",
    "            if i==len(lst)-2:\n",
    "                return 0\n",
    "                \n",
    "        if len(lst)==0:\n",
    "            return 1\n",
    "        "
   ]
  },
  {
   "cell_type": "code",
   "execution_count": 37,
   "id": "8804e09a-b597-434e-9610-3a2b0fda2fd6",
   "metadata": {},
   "outputs": [],
   "source": [
    "def solution(s) :\n",
    "    def sol(lst):\n",
    "        for i in range(0,len(lst)-1):\n",
    "            if lst[i]==lst[i+1]:\n",
    "                lst.pop(i+1)\n",
    "                lst.pop(i)\n",
    "                \n",
    "                if len(lst)==0:\n",
    "                    return 1\n",
    "                    \n",
    "                if sol(lst)==1:\n",
    "                    return 1\n",
    "            \n",
    "            else:\n",
    "                pass\n",
    "                \n",
    "            if i == len(lst)-2:\n",
    "                return 0\n",
    "    lst= list(s)\n",
    "    return sol(lst)\n",
    "\n",
    "                \n",
    "        "
   ]
  },
  {
   "cell_type": "code",
   "execution_count": 39,
   "id": "7ec8d355-a5db-4144-bfbb-0a5b0d3953d1",
   "metadata": {},
   "outputs": [
    {
     "name": "stdout",
     "output_type": "stream",
     "text": [
      "['a', 'b', 'a', 'b']\n"
     ]
    },
    {
     "data": {
      "text/plain": [
       "0"
      ]
     },
     "execution_count": 39,
     "metadata": {},
     "output_type": "execute_result"
    }
   ],
   "source": [
    "solution(\"baabaa\")"
   ]
  },
  {
   "cell_type": "code",
   "execution_count": 59,
   "id": "1e068920-1a57-45ad-bcca-063df850455a",
   "metadata": {},
   "outputs": [],
   "source": [
    "def solution(s):\n",
    "    lst = []\n",
    "    for i in s:\n",
    "        if len(lst) == 0:\n",
    "            lst.append(i)\n",
    "        else:\n",
    "            if i== lst[-1]:\n",
    "                lst.pop()\n",
    "            else :\n",
    "                lst.append(i)\n",
    "    \n",
    "    \n",
    "    if len(lst) != 0:\n",
    "        return 0\n",
    "    else :\n",
    "        return 1"
   ]
  },
  {
   "cell_type": "code",
   "execution_count": 60,
   "id": "09dd4669-83cb-4f96-8a35-9962ee3964d9",
   "metadata": {},
   "outputs": [
    {
     "data": {
      "text/plain": [
       "0"
      ]
     },
     "execution_count": 60,
     "metadata": {},
     "output_type": "execute_result"
    }
   ],
   "source": [
    "solution(\"bcacb\")"
   ]
  },
  {
   "cell_type": "code",
   "execution_count": null,
   "id": "f4bb3612-8809-440e-9c37-c0f2a8c532ac",
   "metadata": {},
   "outputs": [],
   "source": []
  }
 ],
 "metadata": {
  "kernelspec": {
   "display_name": "Python 3 (ipykernel)",
   "language": "python",
   "name": "python3"
  },
  "language_info": {
   "codemirror_mode": {
    "name": "ipython",
    "version": 3
   },
   "file_extension": ".py",
   "mimetype": "text/x-python",
   "name": "python",
   "nbconvert_exporter": "python",
   "pygments_lexer": "ipython3",
   "version": "3.11.7"
  }
 },
 "nbformat": 4,
 "nbformat_minor": 5
}
