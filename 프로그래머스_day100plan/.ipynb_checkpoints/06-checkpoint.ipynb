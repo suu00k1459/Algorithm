{
 "cells": [
  {
   "cell_type": "code",
   "execution_count": null,
   "id": "ce9e3bef-045f-44cf-be68-d93eb332a2a8",
   "metadata": {},
   "outputs": [],
   "source": [
    "def solution(N, stages):\n",
    "    clg = len(stages)\n",
    "    f=[]\n",
    "    result=[]\n",
    "    \n",
    "    for i in range(1,N+1):\n",
    "        st = stages.count(i)\n",
    "        if st ==0:\n",
    "            f.append((0,i))\n",
    "        else :\n",
    "            f.append((st/clg,i))\n",
    "            clg-= st\n",
    "    f.sort(key= lambda x : (-x[0],+x[1]))\n",
    "    \n",
    "    for i in f:\n",
    "        result.append(i[1])\n",
    "    return result"
   ]
  }
 ],
 "metadata": {
  "kernelspec": {
   "display_name": "Python 3 (ipykernel)",
   "language": "python",
   "name": "python3"
  },
  "language_info": {
   "codemirror_mode": {
    "name": "ipython",
    "version": 3
   },
   "file_extension": ".py",
   "mimetype": "text/x-python",
   "name": "python",
   "nbconvert_exporter": "python",
   "pygments_lexer": "ipython3",
   "version": "3.11.7"
  }
 },
 "nbformat": 4,
 "nbformat_minor": 5
}
