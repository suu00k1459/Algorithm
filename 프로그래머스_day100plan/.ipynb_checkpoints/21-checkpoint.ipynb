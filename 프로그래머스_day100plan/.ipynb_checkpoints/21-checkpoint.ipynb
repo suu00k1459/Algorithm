{
 "cells": [
  {
   "cell_type": "code",
   "execution_count": 83,
   "id": "e8d13693-d152-44a1-95cc-ff9b9443cc65",
   "metadata": {},
   "outputs": [],
   "source": [
    "def solution(want, number, discount) :\n",
    "    t=0\n",
    "    for i in range(len(discount)-9):\n",
    "        temp = discount[i:i+10]\n",
    "        dict = {}\n",
    "        for j in temp :\n",
    "            dict[j] = dict.get(j,0)+1\n",
    "\n",
    "        s = True\n",
    "        for i in range(len(want)):\n",
    "            if  want[i] in dict:\n",
    "                if number[i] <= dict[want[i]]:\n",
    "                    s = True\n",
    "                else:\n",
    "                    s = False\n",
    "                    break\n",
    "            else:\n",
    "                s = False\n",
    "                break\n",
    "        if s == True:\n",
    "            t+=1\n",
    "            \n",
    "    return t"
   ]
  },
  {
   "cell_type": "code",
   "execution_count": 84,
   "id": "3fcbc2ff-2f78-4d4b-b397-d8ce45f83482",
   "metadata": {},
   "outputs": [
    {
     "name": "stdout",
     "output_type": "stream",
     "text": [
      "{'chicken': 1, 'apple': 3, 'banana': 2, 'rice': 2, 'pork': 2}\n",
      "banana 3 2\n",
      "False\n",
      "{'apple': 3, 'banana': 2, 'rice': 2, 'pork': 2, 'pot': 1}\n",
      "banana 3 2\n",
      "False\n",
      "{'apple': 2, 'banana': 3, 'rice': 2, 'pork': 2, 'pot': 1}\n",
      "banana 3 3\n",
      "apple 2 2\n",
      "rice 2 2\n",
      "pork 2 2\n",
      "pot 1 1\n",
      "True\n",
      "{'banana': 3, 'rice': 2, 'apple': 2, 'pork': 2, 'pot': 1}\n",
      "banana 3 3\n",
      "apple 2 2\n",
      "rice 2 2\n",
      "pork 2 2\n",
      "pot 1 1\n",
      "True\n",
      "{'rice': 2, 'apple': 2, 'pork': 2, 'banana': 3, 'pot': 1}\n",
      "banana 3 3\n",
      "apple 2 2\n",
      "rice 2 2\n",
      "pork 2 2\n",
      "pot 1 1\n",
      "True\n"
     ]
    },
    {
     "data": {
      "text/plain": [
       "3"
      ]
     },
     "execution_count": 84,
     "metadata": {},
     "output_type": "execute_result"
    }
   ],
   "source": [
    "want = [\"banana\", \"apple\", \"rice\", \"pork\", \"pot\"]\n",
    "num = [3, 2, 2, 2, 1]\n",
    "discount = [\"chicken\", \"apple\", \"apple\", \"banana\", \"rice\", \"apple\", \"pork\", \"banana\", \"pork\", \"rice\", \"pot\", \"banana\", \"apple\", \"banana\"]\n",
    "\n",
    "solution(want, num, discount)"
   ]
  },
  {
   "cell_type": "code",
   "execution_count": 71,
   "id": "50e01b20-068a-40f5-a211-af73d5712c03",
   "metadata": {},
   "outputs": [
    {
     "data": {
      "text/plain": [
       "0"
      ]
     },
     "execution_count": 71,
     "metadata": {},
     "output_type": "execute_result"
    }
   ],
   "source": [
    "solution([\"apple\"],[10], [\"banana\", \"banana\", \"banana\", \"banana\", \"banana\", \"banana\", \"banana\", \"banana\", \"banana\", \"banana\"])"
   ]
  }
 ],
 "metadata": {
  "kernelspec": {
   "display_name": "Python 3 (ipykernel)",
   "language": "python",
   "name": "python3"
  },
  "language_info": {
   "codemirror_mode": {
    "name": "ipython",
    "version": 3
   },
   "file_extension": ".py",
   "mimetype": "text/x-python",
   "name": "python",
   "nbconvert_exporter": "python",
   "pygments_lexer": "ipython3",
   "version": "3.11.7"
  }
 },
 "nbformat": 4,
 "nbformat_minor": 5
}
