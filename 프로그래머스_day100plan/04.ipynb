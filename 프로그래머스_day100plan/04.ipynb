{
 "cells": [
  {
   "cell_type": "code",
   "execution_count": 1,
   "id": "ce300d6f-3660-4336-89bb-43b77de36984",
   "metadata": {},
   "outputs": [],
   "source": [
    "import math\n",
    "\n",
    "def solution(ans):\n",
    "    a = [1,2,3,4,5]\n",
    "    b = [2, 1, 2, 3, 2, 4, 2, 5]\n",
    "    c = [3, 3, 1, 1, 2, 2, 4, 4, 5, 5]\n",
    "\n",
    "    a = (a*math.ceil(len(ans)/len(a)))[:len(ans)]\n",
    "    b = (b*math.ceil(len(ans)/len(b)))[:len(ans)]\n",
    "    c = (c*math.ceil(len(ans)/len(c)))[:len(ans)]\n",
    "\n",
    "    dct ={1:0,2:0,3:0}\n",
    "    \n",
    "    for i in range(len(ans)):\n",
    "        if ans[i] == a[i]:\n",
    "            dct[1]+=1\n",
    "        if ans[i] == b[i]:\n",
    "            dct[2]+=1\n",
    "        if ans[i] == c[i]:\n",
    "            dct[3]+=1\n",
    "            \n",
    "    return [k for k, v in dct.items() if v == max(dct.values())]"
   ]
  },
  {
   "cell_type": "code",
   "execution_count": null,
   "id": "97419bbd-df66-4f3a-bdb4-91dbe9467e53",
   "metadata": {},
   "outputs": [],
   "source": []
  }
 ],
 "metadata": {
  "kernelspec": {
   "display_name": "Python 3 (ipykernel)",
   "language": "python",
   "name": "python3"
  },
  "language_info": {
   "codemirror_mode": {
    "name": "ipython",
    "version": 3
   },
   "file_extension": ".py",
   "mimetype": "text/x-python",
   "name": "python",
   "nbconvert_exporter": "python",
   "pygments_lexer": "ipython3",
   "version": "3.11.7"
  }
 },
 "nbformat": 4,
 "nbformat_minor": 5
}
