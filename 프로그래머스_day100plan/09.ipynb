{
 "cells": [
  {
   "cell_type": "code",
   "execution_count": 1,
   "id": "7124ee11-9dfe-4b3a-adc1-c90f7be867e9",
   "metadata": {},
   "outputs": [],
   "source": [
    "def solution(decimal): \n",
    "    b = decimal\n",
    "    st =''\n",
    "    \n",
    "    while b >=2 :\n",
    "        a=b%2\n",
    "        b=b//2\n",
    "        st+=str(a)\n",
    "    st+=str(1)\n",
    "\n",
    "    st = st[::-1]\n",
    "    return int(st)\n",
    "\n"
   ]
  },
  {
   "cell_type": "code",
   "execution_count": 2,
   "id": "c9f31c27-9ec6-4221-bd61-84f59c2340d5",
   "metadata": {},
   "outputs": [
    {
     "data": {
      "text/plain": [
       "11000000111001"
      ]
     },
     "execution_count": 2,
     "metadata": {},
     "output_type": "execute_result"
    }
   ],
   "source": [
    "solution(12345)"
   ]
  },
  {
   "cell_type": "code",
   "execution_count": 5,
   "id": "32b4fd80-e465-41c1-88b3-1c454847851c",
   "metadata": {},
   "outputs": [],
   "source": [
    "def solution(decimal):\n",
    "  answer=bin(decimal)\n",
    "  return answer[2:]"
   ]
  },
  {
   "cell_type": "code",
   "execution_count": null,
   "id": "b81a8ffa-a9a7-474a-8e5e-0dfc5665705f",
   "metadata": {},
   "outputs": [],
   "source": []
  }
 ],
 "metadata": {
  "kernelspec": {
   "display_name": "Python 3 (ipykernel)",
   "language": "python",
   "name": "python3"
  },
  "language_info": {
   "codemirror_mode": {
    "name": "ipython",
    "version": 3
   },
   "file_extension": ".py",
   "mimetype": "text/x-python",
   "name": "python",
   "nbconvert_exporter": "python",
   "pygments_lexer": "ipython3",
   "version": "3.11.7"
  }
 },
 "nbformat": 4,
 "nbformat_minor": 5
}
