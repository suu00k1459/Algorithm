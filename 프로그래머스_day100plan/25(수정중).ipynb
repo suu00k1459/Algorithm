{
 "cells": [
  {
   "cell_type": "code",
   "execution_count": null,
   "id": "51a12351-f1a7-4a01-b170-0acba8a1515e",
   "metadata": {},
   "outputs": [],
   "source": [
    "def solution(orders, course):\n",
    "    "
   ]
  },
  {
   "cell_type": "code",
   "execution_count": null,
   "id": "52976d92-6b21-4acd-a69b-5ff6ee49edd2",
   "metadata": {},
   "outputs": [],
   "source": [
    "orders = [\"ABCFG\", \"AC\", \"CDE\", \"ACDE\", \"BCFG\", \"ACDEH\"]\n",
    "course = [2,3,4]\n",
    "\n",
    "solution(orders, course)"
   ]
  },
  {
   "cell_type": "code",
   "execution_count": 20,
   "id": "2f68837d-731d-4181-a52c-de29f502fa3f",
   "metadata": {},
   "outputs": [
    {
     "data": {
      "text/plain": [
       "['A', 'B', 'C', 'F', 'G']"
      ]
     },
     "execution_count": 20,
     "metadata": {},
     "output_type": "execute_result"
    }
   ],
   "source": [
    "s= \"ABCFG\"\n",
    "list(s)"
   ]
  },
  {
   "cell_type": "code",
   "execution_count": 76,
   "id": "74714007-aa33-44ae-bbe8-ea7dff3264fa",
   "metadata": {},
   "outputs": [
    {
     "name": "stdout",
     "output_type": "stream",
     "text": [
      "2\n",
      "{'AB': 2, 'BC': 1, 'CD': 3, 'DE': 2, 'AD': 1, 'XY': 2, 'YZ': 2, 'AC': 1}\n",
      "3\n",
      "{'ABC': 1, 'BCD': 1, 'CDE': 1, 'ADE': 1, 'XYZ': 2, 'ACD': 1}\n",
      "['AB', 'CD', 'DE', 'XY', 'YZ', 'XYZ']\n"
     ]
    }
   ],
   "source": [
    "import itertools\n",
    "\n",
    "orders = [\"ABCDE\", \"AB\", \"CD\", \"ADE\", \"XYZ\", \"XYZ\", \"ACD\"]\n",
    "course = [2,3,5]\n",
    "\n",
    "ln = len(max(orders, key = len))\n",
    "\n",
    "res =[]\n",
    "for j in course:\n",
    "    if j < ln:\n",
    "        print(j)\n",
    "        dict =  {}\n",
    "        temp = list(filter(lambda x : len(x)>=j, orders))\n",
    "        for i in temp:\n",
    "            for h in list(map(''.join, itertools.combinations(i, j))):\n",
    "                if h in i:\n",
    "                    dict[h] = dict.get(h, 0)+1\n",
    "\n",
    "        print(dict)\n",
    "        for k, v in dict.items():\n",
    "            if v>=2:\n",
    "                res.append(k)\n",
    "    else :\n",
    "        pass\n",
    "print(res)"
   ]
  },
  {
   "cell_type": "code",
   "execution_count": null,
   "id": "43ce00e5-4052-4a9d-8204-ebaa31c0d1b2",
   "metadata": {},
   "outputs": [],
   "source": [
    "orders = [\"ABCDE\", \"AB\", \"CD\", \"ADE\", \"XYZ\", \"XYZ\", \"ACD\"]\n",
    "course = [2,3,5]\n",
    "\n",
    "ln = len(max(orders, key = len))\n",
    "temp = list(filter(lambda x : len(x)>2, orders))\n",
    "\n",
    "a 1\n",
    "b 1\n",
    "c 1\n",
    "d 1\n",
    "e 1\n",
    "f 0\n",
    "g 0\n"
   ]
  },
  {
   "cell_type": "code",
   "execution_count": 81,
   "id": "75092732-dade-41b5-b53a-22df89d13a52",
   "metadata": {},
   "outputs": [
    {
     "ename": "SyntaxError",
     "evalue": "invalid syntax (260135516.py, line 1)",
     "output_type": "error",
     "traceback": [
      "\u001b[1;36m  Cell \u001b[1;32mIn[81], line 1\u001b[1;36m\u001b[0m\n\u001b[1;33m    [re'[a-z]']\u001b[0m\n\u001b[1;37m       ^\u001b[0m\n\u001b[1;31mSyntaxError\u001b[0m\u001b[1;31m:\u001b[0m invalid syntax\n"
     ]
    }
   ],
   "source": [
    "[re'[a-z]']"
   ]
  },
  {
   "cell_type": "code",
   "execution_count": null,
   "id": "7d651598-cbe5-4965-943c-e835c00437c1",
   "metadata": {},
   "outputs": [],
   "source": []
  }
 ],
 "metadata": {
  "kernelspec": {
   "display_name": "Python 3 (ipykernel)",
   "language": "python",
   "name": "python3"
  },
  "language_info": {
   "codemirror_mode": {
    "name": "ipython",
    "version": 3
   },
   "file_extension": ".py",
   "mimetype": "text/x-python",
   "name": "python",
   "nbconvert_exporter": "python",
   "pygments_lexer": "ipython3",
   "version": "3.11.7"
  }
 },
 "nbformat": 4,
 "nbformat_minor": 5
}
