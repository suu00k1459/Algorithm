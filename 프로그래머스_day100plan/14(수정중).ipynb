{
 "cells": [
  {
   "cell_type": "code",
   "execution_count": 15,
   "id": "03b86d27-b4de-42b9-ae88-d9a532de3875",
   "metadata": {},
   "outputs": [],
   "source": [
    "def solution(n, k, cmd):\n",
    "    lst = [i for i in range(n)]\n",
    "    lst2 = [\"O\"]*n\n",
    "    temp=[]\n",
    "    l = k\n",
    "    \n",
    "    for v in cmd:\n",
    "        if v == \"C\":\n",
    "            temp.append([l,lst[l]])\n",
    "            lst.pop(l)\n",
    "            if len(lst)==l:\n",
    "                l = len(lst)-1\n",
    "            \n",
    "        elif v == \"Z\":\n",
    "            lst.insert(temp[-1][0],temp[-1][1])\n",
    "            temp.pop()\n",
    "            if temp[-1][0]<=l:\n",
    "                l+=1\n",
    "        else :\n",
    "            d, n = v.split()[0],v.split()[1]\n",
    "            if d == \"D\":\n",
    "                if l == len(lst)-1:\n",
    "                    pass\n",
    "                l+=int(n)\n",
    "            else:\n",
    "                if l ==0:\n",
    "                    pass\n",
    "                l-=int(n)\n",
    "    for i, v in enumerate(lst2):\n",
    "        if i in lst:\n",
    "            pass\n",
    "        else :\n",
    "            lst2[i] = \"X\"\n",
    "    return ''.join(lst2)"
   ]
  },
  {
   "cell_type": "code",
   "execution_count": 16,
   "id": "46eb630f-47b3-4e1c-afc9-d9cc2e4c7b7e",
   "metadata": {},
   "outputs": [
    {
     "data": {
      "text/plain": [
       "'OOXOXOOO'"
      ]
     },
     "execution_count": 16,
     "metadata": {},
     "output_type": "execute_result"
    }
   ],
   "source": [
    "n = 8\n",
    "k = 2\n",
    "cmd = [\"D 2\",\"C\",\"U 3\",\"C\",\"D 4\",\"C\",\"U 2\",\"Z\",\"Z\",\"U 1\",\"C\"]\n",
    "solution(n, k, cmd)"
   ]
  },
  {
   "cell_type": "code",
   "execution_count": null,
   "id": "90230005-8123-4ff8-b794-ebb492d09a48",
   "metadata": {},
   "outputs": [],
   "source": [
    "0무지\n",
    "1콘 \n",
    "2어피치\n",
    "3제이지\n",
    "5네오\n",
    "6튜브 \n",
    "7라이언\n",
    "\n",
    "4프로도 \n",
    "\n",
    "n = 8\n",
    "k = 2\n",
    "cmd = [\"D 2\",\"C\",\"U 3\",\"C\",\"D 4\",\"C\",\"U 2\",\"Z\",\"Z\",\"U 1\",\"C\"]\n",
    "\n",
    "lst = [\"O\"]*n\n",
    "l = k\n",
    "temp = [\n",
    "\n",
    "for i in cmd:\n",
    "    d, n = i.split()[0], i.split()[1]\n",
    "\n",
    "    if d ==\"C\":\n",
    "        \n",
    "    elif d == \"Z\":\n",
    "        pass\n",
    "    else :\n",
    "        if d == \"U\":\n",
    "            pass\n",
    "        else:\n",
    "            pass\n",
    "\n"
   ]
  }
 ],
 "metadata": {
  "kernelspec": {
   "display_name": "Python 3 (ipykernel)",
   "language": "python",
   "name": "python3"
  },
  "language_info": {
   "codemirror_mode": {
    "name": "ipython",
    "version": 3
   },
   "file_extension": ".py",
   "mimetype": "text/x-python",
   "name": "python",
   "nbconvert_exporter": "python",
   "pygments_lexer": "ipython3",
   "version": "3.11.7"
  }
 },
 "nbformat": 4,
 "nbformat_minor": 5
}
