{
 "cells": [
  {
   "cell_type": "code",
   "execution_count": null,
   "id": "9ae7fd17-79c0-4e7f-bb50-f57e61b67ef7",
   "metadata": {},
   "outputs": [],
   "source": [
    "def solution(enroll, referral, seller, amount):\n",
    "    return "
   ]
  },
  {
   "cell_type": "code",
   "execution_count": null,
   "id": "02bd7ec3-8514-4a97-823d-17abb96d3cb2",
   "metadata": {},
   "outputs": [],
   "source": [
    "enroll = [\"john\", \"mary\", \"edward\", \"sam\", \"emily\", \"jaimie\", \"tod\", \"young\"]\n",
    "referral = [\"-\", \"-\", \"mary\", \"edward\", \"mary\", \"mary\", \"jaimie\", \"edward\"]\n",
    "seller = [\"young\", \"john\", \"tod\", \"emily\", \"mary\"]\n",
    "amount = [12, 4, 2, 5, 10]"
   ]
  },
  {
   "cell_type": "code",
   "execution_count": null,
   "id": "ca50dbce-b18b-4e6a-ac02-b1ec0964809c",
   "metadata": {},
   "outputs": [],
   "source": [
    "solution(enroll, referral, seller, amount)"
   ]
  },
  {
   "cell_type": "code",
   "execution_count": null,
   "id": "a46a9e17-7632-4eee-8731-dad9a24a69ef",
   "metadata": {},
   "outputs": [],
   "source": [
    "enroll \n",
    "\"john\"   \"-\",400 -> 360 40\n",
    "\"mary\"   \"-\" 1000 -> 946 16\n",
    "\"edward\" mary 0  \n",
    "\"sam\"    edward 0 \n",
    "\"emily\"  mary 500 450 -> 50\n",
    "\"jaimie\" mary 0 -> 18 2\n",
    "\"tod\"    jaimie 200 -> 180 20\n",
    "\"young\"  edward 1200\n"
   ]
  },
  {
   "cell_type": "code",
   "execution_count": null,
   "id": "78ff3c1f-fb1a-4e5c-8155-44d866c383ec",
   "metadata": {},
   "outputs": [],
   "source": []
  }
 ],
 "metadata": {
  "kernelspec": {
   "display_name": "Python 3 (ipykernel)",
   "language": "python",
   "name": "python3"
  },
  "language_info": {
   "codemirror_mode": {
    "name": "ipython",
    "version": 3
   },
   "file_extension": ".py",
   "mimetype": "text/x-python",
   "name": "python",
   "nbconvert_exporter": "python",
   "pygments_lexer": "ipython3",
   "version": "3.11.7"
  }
 },
 "nbformat": 4,
 "nbformat_minor": 5
}
