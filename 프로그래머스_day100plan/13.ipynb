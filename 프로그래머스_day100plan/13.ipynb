{
 "cells": [
  {
   "cell_type": "code",
   "execution_count": null,
   "id": "555ead9b-548d-4c94-abc5-78b26b27159f",
   "metadata": {},
   "outputs": [],
   "source": [
    "[[0,0,0,0,0],\n",
    " [0,0,1,0,3],\n",
    " [0,2,5,0,1],\n",
    " [4,2,4,4,2],\n",
    " [3,5,1,3,1]]"
   ]
  },
  {
   "cell_type": "code",
   "execution_count": null,
   "id": "97ac9aed-bcc5-4ac8-a71c-4578a939e6ef",
   "metadata": {},
   "outputs": [],
   "source": [
    "[1,5,3,5,1,2,1,4]\n",
    "\n",
    "4 2 4"
   ]
  },
  {
   "cell_type": "code",
   "execution_count": 22,
   "id": "fc3610db-9b4a-4b7f-b49f-bf0249566fd2",
   "metadata": {},
   "outputs": [],
   "source": [
    "def solution(board, moves):\n",
    "    temp = []\n",
    "    s=0\n",
    "    for i in moves:\n",
    "        for j in board:\n",
    "            if j[i-1] ==0:\n",
    "                pass\n",
    "            else:\n",
    "                temp.append(j[i-1])\n",
    "                if len(temp)>=2:\n",
    "                    if temp[-1] == temp[-2]:\n",
    "                        temp.pop()\n",
    "                        temp.pop()\n",
    "                        s+=2\n",
    "                    \n",
    "                j[i-1]=0\n",
    "                break\n",
    "    return s\n"
   ]
  },
  {
   "cell_type": "code",
   "execution_count": 23,
   "id": "a4fae7d8-1fe9-4080-aa0a-ad9ad3db90d9",
   "metadata": {},
   "outputs": [
    {
     "name": "stdout",
     "output_type": "stream",
     "text": [
      "i 1\n",
      "j [0, 0, 0, 0, 0]\n",
      "j [0, 0, 1, 0, 3]\n",
      "j [0, 2, 5, 0, 1]\n",
      "j [4, 2, 4, 4, 2]\n",
      "temp [4]\n",
      "j2 [0, 2, 4, 4, 2]\n",
      "i 5\n",
      "j [0, 0, 0, 0, 0]\n",
      "j [0, 0, 1, 0, 3]\n",
      "temp [4, 3]\n",
      "j2 [0, 0, 1, 0, 0]\n",
      "i 3\n",
      "j [0, 0, 0, 0, 0]\n",
      "j [0, 0, 1, 0, 0]\n",
      "temp [4, 3, 1]\n",
      "j2 [0, 0, 0, 0, 0]\n",
      "i 5\n",
      "j [0, 0, 0, 0, 0]\n",
      "j [0, 0, 0, 0, 0]\n",
      "j [0, 2, 5, 0, 1]\n",
      "temp [4, 3, 1, 1]\n",
      "j2 [0, 2, 5, 0, 0]\n",
      "i 1\n",
      "j [0, 0, 0, 0, 0]\n",
      "j [0, 0, 0, 0, 0]\n",
      "j [0, 2, 5, 0, 0]\n",
      "j [0, 2, 4, 4, 2]\n",
      "j [3, 5, 1, 3, 1]\n",
      "temp [4, 3, 3]\n",
      "j2 [0, 5, 1, 3, 1]\n",
      "i 2\n",
      "j [0, 0, 0, 0, 0]\n",
      "j [0, 0, 0, 0, 0]\n",
      "j [0, 2, 5, 0, 0]\n",
      "temp [4, 2]\n",
      "j2 [0, 0, 5, 0, 0]\n",
      "i 1\n",
      "j [0, 0, 0, 0, 0]\n",
      "j [0, 0, 0, 0, 0]\n",
      "j [0, 0, 5, 0, 0]\n",
      "j [0, 2, 4, 4, 2]\n",
      "j [0, 5, 1, 3, 1]\n",
      "i 4\n",
      "j [0, 0, 0, 0, 0]\n",
      "j [0, 0, 0, 0, 0]\n",
      "j [0, 0, 5, 0, 0]\n",
      "j [0, 2, 4, 4, 2]\n",
      "temp [4, 2, 4]\n",
      "j2 [0, 2, 4, 0, 2]\n"
     ]
    },
    {
     "data": {
      "text/plain": [
       "4"
      ]
     },
     "execution_count": 23,
     "metadata": {},
     "output_type": "execute_result"
    }
   ],
   "source": [
    "board = [[0,0,0,0,0],[0,0,1,0,3],[0,2,5,0,1],[4,2,4,4,2],[3,5,1,3,1]]\n",
    "moves = [1,5,3,5,1,2,1,4]\t\n",
    "solution(board, moves)"
   ]
  },
  {
   "cell_type": "code",
   "execution_count": 6,
   "id": "e7663ea4-bf67-4e30-8f05-c2f9687b8078",
   "metadata": {},
   "outputs": [
    {
     "ename": "IndexError",
     "evalue": "list index out of range",
     "output_type": "error",
     "traceback": [
      "\u001b[1;31m---------------------------------------------------------------------------\u001b[0m",
      "\u001b[1;31mIndexError\u001b[0m                                Traceback (most recent call last)",
      "Cell \u001b[1;32mIn[6], line 2\u001b[0m\n\u001b[0;32m      1\u001b[0m temp \u001b[38;5;241m=\u001b[39m[]\n\u001b[1;32m----> 2\u001b[0m temp[\u001b[38;5;241m-\u001b[39m\u001b[38;5;241m1\u001b[39m]\n",
      "\u001b[1;31mIndexError\u001b[0m: list index out of range"
     ]
    }
   ],
   "source": [
    "temp =[]\n",
    "temp[-1]"
   ]
  },
  {
   "cell_type": "code",
   "execution_count": null,
   "id": "1753b771-52db-4083-9498-a300dc0496e5",
   "metadata": {},
   "outputs": [],
   "source": []
  }
 ],
 "metadata": {
  "kernelspec": {
   "display_name": "Python 3 (ipykernel)",
   "language": "python",
   "name": "python3"
  },
  "language_info": {
   "codemirror_mode": {
    "name": "ipython",
    "version": 3
   },
   "file_extension": ".py",
   "mimetype": "text/x-python",
   "name": "python",
   "nbconvert_exporter": "python",
   "pygments_lexer": "ipython3",
   "version": "3.11.7"
  }
 },
 "nbformat": 4,
 "nbformat_minor": 5
}
