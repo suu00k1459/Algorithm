{
 "cells": [
  {
   "cell_type": "code",
   "execution_count": 13,
   "id": "ef7df38a-bcdd-46cf-8beb-e9fcbd254e21",
   "metadata": {},
   "outputs": [],
   "source": [
    "def solution(lst):\n",
    "    rst = []\n",
    "    for i in range(len(lst)):\n",
    "        for j in lst[i+1:]:\n",
    "            rst.append(lst[i]+j)\n",
    "    return sorted(set(rst))"
   ]
  },
  {
   "cell_type": "code",
   "execution_count": 14,
   "id": "01b6a626-998a-4b08-af20-18deb27d621e",
   "metadata": {},
   "outputs": [
    {
     "data": {
      "text/plain": [
       "[2, 3, 4, 5, 6, 7]"
      ]
     },
     "execution_count": 14,
     "metadata": {},
     "output_type": "execute_result"
    }
   ],
   "source": [
    "solution([2,1,3,4,1])"
   ]
  },
  {
   "cell_type": "code",
   "execution_count": 15,
   "id": "3eee3a30-7d75-464b-bfb4-582df6fd0e20",
   "metadata": {},
   "outputs": [
    {
     "data": {
      "text/plain": [
       "[2, 5, 7, 9, 12]"
      ]
     },
     "execution_count": 15,
     "metadata": {},
     "output_type": "execute_result"
    }
   ],
   "source": [
    "solution([5,0,2,7])"
   ]
  }
 ],
 "metadata": {
  "kernelspec": {
   "display_name": "Python 3 (ipykernel)",
   "language": "python",
   "name": "python3"
  },
  "language_info": {
   "codemirror_mode": {
    "name": "ipython",
    "version": 3
   },
   "file_extension": ".py",
   "mimetype": "text/x-python",
   "name": "python",
   "nbconvert_exporter": "python",
   "pygments_lexer": "ipython3",
   "version": "3.11.7"
  }
 },
 "nbformat": 4,
 "nbformat_minor": 5
}
